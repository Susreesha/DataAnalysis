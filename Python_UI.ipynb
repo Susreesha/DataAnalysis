{
  "nbformat": 4,
  "nbformat_minor": 0,
  "metadata": {
    "colab": {
      "provenance": [],
      "authorship_tag": "ABX9TyPBVPw+bnVZ7UMk8nYwwA/M",
      "include_colab_link": true
    },
    "kernelspec": {
      "name": "python3",
      "display_name": "Python 3"
    },
    "language_info": {
      "name": "python"
    }
  },
  "cells": [
    {
      "cell_type": "markdown",
      "metadata": {
        "id": "view-in-github",
        "colab_type": "text"
      },
      "source": [
        "<a href=\"https://colab.research.google.com/github/Susreesha/DataAnalysis/blob/main/Python_UI.ipynb\" target=\"_parent\"><img src=\"https://colab.research.google.com/assets/colab-badge.svg\" alt=\"Open In Colab\"/></a>"
      ]
    },
    {
      "cell_type": "markdown",
      "source": [
        "This is Python UI"
      ],
      "metadata": {
        "id": "LYYQIQKmxPMT"
      }
    },
    {
      "cell_type": "code",
      "source": [
        "var1 = input(\"Hi please give the input\")"
      ],
      "metadata": {
        "id": "-Tl6tbq30SXq",
        "colab": {
          "base_uri": "https://localhost:8080/"
        },
        "outputId": "f3f52d0e-07da-4bd5-e25d-3f44001cbd82"
      },
      "execution_count": null,
      "outputs": [
        {
          "name": "stdout",
          "output_type": "stream",
          "text": [
            "Hi please give the input32\n"
          ]
        }
      ]
    },
    {
      "cell_type": "code",
      "source": [
        "# Input Data\n",
        "variable_name = input(\"Enter your input:\")"
      ],
      "metadata": {
        "id": "JsHoUJ7T0lJS",
        "colab": {
          "base_uri": "https://localhost:8080/"
        },
        "outputId": "64e6f69a-36f2-458a-c72e-c634eb2f0a72"
      },
      "execution_count": null,
      "outputs": [
        {
          "name": "stdout",
          "output_type": "stream",
          "text": [
            "Enter your input:23\n"
          ]
        }
      ]
    },
    {
      "cell_type": "code",
      "source": [
        "variable_name"
      ],
      "metadata": {
        "colab": {
          "base_uri": "https://localhost:8080/",
          "height": 36
        },
        "id": "j28FEUHb1jZx",
        "outputId": "a45d8927-cfb2-4c78-8668-660a50d4e11f"
      },
      "execution_count": null,
      "outputs": [
        {
          "output_type": "execute_result",
          "data": {
            "text/plain": [
              "'23'"
            ],
            "application/vnd.google.colaboratory.intrinsic+json": {
              "type": "string"
            }
          },
          "metadata": {},
          "execution_count": 40
        }
      ]
    },
    {
      "cell_type": "code",
      "source": [
        "print(\"The value is:\", variable_name, \".\")"
      ],
      "metadata": {
        "colab": {
          "base_uri": "https://localhost:8080/"
        },
        "id": "kRzq2Mpp1m8F",
        "outputId": "80bb4c60-9fe4-49ca-9264-9983d6c0fc25"
      },
      "execution_count": null,
      "outputs": [
        {
          "output_type": "stream",
          "name": "stdout",
          "text": [
            "The value is: 23 .\n"
          ]
        }
      ]
    },
    {
      "cell_type": "code",
      "source": [
        " #Python has an Indentation feature\n",
        "  print(var1)\n"
      ],
      "metadata": {
        "colab": {
          "base_uri": "https://localhost:8080/",
          "height": 106
        },
        "id": "S-BJ3YfZ2aUM",
        "outputId": "bf3e72ca-0041-4144-e2e7-2d884208c973"
      },
      "execution_count": null,
      "outputs": [
        {
          "output_type": "error",
          "ename": "IndentationError",
          "evalue": "unexpected indent (<ipython-input-42-fc3ab4db3d42>, line 2)",
          "traceback": [
            "\u001b[0;36m  File \u001b[0;32m\"<ipython-input-42-fc3ab4db3d42>\"\u001b[0;36m, line \u001b[0;32m2\u001b[0m\n\u001b[0;31m    print(var1)\u001b[0m\n\u001b[0m    ^\u001b[0m\n\u001b[0;31mIndentationError\u001b[0m\u001b[0;31m:\u001b[0m unexpected indent\n"
          ]
        }
      ]
    },
    {
      "cell_type": "markdown",
      "source": [
        "Variables"
      ],
      "metadata": {
        "id": "Nyr6FFKf5nOg"
      }
    },
    {
      "cell_type": "code",
      "source": [
        "delivery = \"zomato\" # start with alphabet\n",
        "DELIVERY = \"swiggy\" # differentiate upper case and lower case words(case sensitive)\n",
        "_cost = 203.9       # can start with underscore\n"
      ],
      "metadata": {
        "id": "7omCm-Tx4BXW"
      },
      "execution_count": null,
      "outputs": []
    },
    {
      "cell_type": "code",
      "source": [
        "23_holiday          # don't start with numbers"
      ],
      "metadata": {
        "colab": {
          "base_uri": "https://localhost:8080/",
          "height": 106
        },
        "id": "nZGN9A4M6X7S",
        "outputId": "17a54b95-3cb5-4d4e-c61b-4f21b2a3b5a2"
      },
      "execution_count": null,
      "outputs": [
        {
          "output_type": "error",
          "ename": "SyntaxError",
          "evalue": "invalid decimal literal (<ipython-input-45-464324e40b9e>, line 1)",
          "traceback": [
            "\u001b[0;36m  File \u001b[0;32m\"<ipython-input-45-464324e40b9e>\"\u001b[0;36m, line \u001b[0;32m1\u001b[0m\n\u001b[0;31m    23_holiday          # don't start with numbers\u001b[0m\n\u001b[0m      ^\u001b[0m\n\u001b[0;31mSyntaxError\u001b[0m\u001b[0;31m:\u001b[0m invalid decimal literal\n"
          ]
        }
      ]
    },
    {
      "cell_type": "code",
      "source": [
        "type(_cost) #dynamically typed"
      ],
      "metadata": {
        "colab": {
          "base_uri": "https://localhost:8080/"
        },
        "id": "3bFiLDMD4-3P",
        "outputId": "a54c4834-47ec-476b-b3ba-e0744cb745f5"
      },
      "execution_count": null,
      "outputs": [
        {
          "output_type": "execute_result",
          "data": {
            "text/plain": [
              "float"
            ]
          },
          "metadata": {},
          "execution_count": 13
        }
      ]
    },
    {
      "cell_type": "code",
      "source": [
        "int(99.9999) #casted into various data types"
      ],
      "metadata": {
        "colab": {
          "base_uri": "https://localhost:8080/"
        },
        "id": "sPnjS1uD5DMb",
        "outputId": "b8e6bd1e-bcb6-4044-c1d0-23654dcdb44d"
      },
      "execution_count": null,
      "outputs": [
        {
          "output_type": "execute_result",
          "data": {
            "text/plain": [
              "99"
            ]
          },
          "metadata": {},
          "execution_count": 15
        }
      ]
    },
    {
      "cell_type": "markdown",
      "source": [
        "Data Types\n",
        "Numerical:\n",
        "1. Integer\n",
        "2. Float"
      ],
      "metadata": {
        "id": "Bi-OtMUw5qvO"
      }
    },
    {
      "cell_type": "code",
      "source": [
        "x = 23\n",
        "y = 32\n",
        "\n",
        "#x = 23.14\n",
        "#y = 31.99\n",
        "\n",
        "z = x + y\n",
        "\n",
        "#Basic operations\n",
        "print(\"Addition of x and y is:\", z)\n",
        "print(\"Addition of x and y is:\", (x + y))\n",
        "print(\"Subtraction of x and y is:\", (x - y))\n",
        "print(\"Multiplication of x and y is:\", (x * y))\n",
        "print(\"Division of x and y is:\", (x / y))\n",
        "print(\"Floor Division of x and y is:\", (x // y))\n",
        "print(\"Modulus of x and y is:\", (x % y))\n",
        "print(\"Exponent of x and y is:\", (x ** y))"
      ],
      "metadata": {
        "colab": {
          "base_uri": "https://localhost:8080/"
        },
        "id": "RtYUyNm65tB-",
        "outputId": "35bb1d4c-e09b-4c7b-d766-df895185e0a3"
      },
      "execution_count": null,
      "outputs": [
        {
          "output_type": "stream",
          "name": "stdout",
          "text": [
            "Addition of x and y is: 55\n",
            "Addition of x and y is: 55\n",
            "Subtraction of x and y is: -9\n",
            "Multiplication of x and y is: 736\n",
            "Division of x and y is: 0.71875\n",
            "Floor Division of x and y is: 0\n",
            "Modulus of x and y is: 23\n",
            "Exponent of x and y is: 37608910510519071039902074217516707306379521\n"
          ]
        }
      ]
    },
    {
      "cell_type": "markdown",
      "source": [
        "Boolean\n",
        "1. TRUE\n",
        "2. FALSE"
      ],
      "metadata": {
        "id": "MMQ5beyS8Dv0"
      }
    },
    {
      "cell_type": "code",
      "source": [
        "x = 1\n",
        "y = 2\n",
        "w,z = 1,2\n",
        "\n",
        "a = True\n",
        "b = False\n",
        "\n",
        "#Basic Operations\n",
        "print(\"x==y:\", x==y)\n",
        "print(\"x!=y:\", x!=y)\n",
        "print(\"x>y:\", x>y)\n",
        "print(\"x<y:\", x<y)\n",
        "print(\"x>=y:\", x>=y)\n",
        "print(\"x<=y:\", x<=y)\n",
        "print(\"y==z:\", y==z)\n",
        "print(\"y!=z:\", y!=z)\n",
        "print(\"y>z:\", y>z)\n",
        "print(\"y<z:\", y<z)\n",
        "print(\"y>=z:\", y>=z)\n",
        "print(\"y<=z:\", y<=z)\n",
        "print(\"w==z:\", w==z)\n",
        "print(\"w!=z:\", w!=z)\n",
        "print(\"w>z:\", w>z)\n",
        "print(\"w<z:\", w<z)\n",
        "print(\"w>=z:\", w>=z)\n",
        "print(\"w<=z:\", w<=z)\n",
        "\n",
        "print(\"a==b:\", a==b)\n",
        "print(\"a!=b:\", a!=b)\n",
        "\n",
        "print(\"a and b:\", a and b)\n",
        "print(\"a or b:\", a or b)\n",
        "print(\"not a:\", not a)\n",
        "print(\"not b:\", not b)"
      ],
      "metadata": {
        "colab": {
          "base_uri": "https://localhost:8080/"
        },
        "id": "kFcjzIPz8C_h",
        "outputId": "93a525df-22de-4c51-9c2d-e926c27e4cde"
      },
      "execution_count": null,
      "outputs": [
        {
          "output_type": "stream",
          "name": "stdout",
          "text": [
            "x==y: False\n",
            "x!=y: True\n",
            "x>y: False\n",
            "x<y: True\n",
            "x>=y: False\n",
            "x<=y: True\n",
            "y==z: True\n",
            "y!=z: False\n",
            "y>z: False\n",
            "y<z: False\n",
            "y>=z: True\n",
            "y<=z: True\n",
            "w==z: False\n",
            "w!=z: True\n",
            "w>z: False\n",
            "w<z: True\n",
            "w>=z: False\n",
            "w<=z: True\n",
            "a==b: False\n",
            "a!=b: True\n",
            "a and b: False\n",
            "a or b: True\n",
            "not a: False\n",
            "not b: True\n"
          ]
        }
      ]
    },
    {
      "cell_type": "markdown",
      "source": [
        "**String**:\n",
        "   **Used to represent a sequence of characters**"
      ],
      "metadata": {
        "id": "E_CMNtdK-r9d"
      }
    },
    {
      "cell_type": "code",
      "source": [
        "s1 = \"Hello This is Python UI\"\n",
        "\n",
        "#Basic Operations\n",
        "\n",
        "print(\"Intial String :\", s1)\n",
        "print(\"First 3 Characters String:\", s1[:3])\n",
        "print(\"Last 5 Characters String:\", s1[-5:])\n",
        "print(\"Substring chars string:\", s1[10:15])\n",
        "print(\"upper case:\", s1.upper())\n",
        "print(\"lower case:\", s1.lower())\n",
        "print(\"Replace substring:\", s1.replace(' ', '/'))\n",
        "print(\"length:\", len(s1))\n",
        "print(\"split:\", s1.split())\n",
        "print(\"Contains Substring Hello:\",(\"Hello\" in s1))\n",
        "print(\"Concat substring User:\", (s1 + \" \" +\"User\"))"
      ],
      "metadata": {
        "colab": {
          "base_uri": "https://localhost:8080/"
        },
        "id": "uc2WChK8_B2y",
        "outputId": "00985626-faa1-4db5-b598-cd2e4352a0ea"
      },
      "execution_count": null,
      "outputs": [
        {
          "output_type": "stream",
          "name": "stdout",
          "text": [
            "Intial String : Hello This is Python UI\n",
            "First 3 Characters String: Hel\n",
            "Last 5 Characters String: on UI\n",
            "Substring chars string:  is P\n",
            "upper case: HELLO THIS IS PYTHON UI\n",
            "lower case: hello this is python ui\n",
            "Replace substring: Hello/This/is/Python/UI\n",
            "length: 23\n",
            "split: ['Hello', 'This', 'is', 'Python', 'UI']\n",
            "Contains Substring Hello: True\n",
            "Concat substring User: Hello This is Python UI User\n"
          ]
        }
      ]
    },
    {
      "cell_type": "markdown",
      "source": [
        "**MULTIPLE ELEMENTS IN A VARIABLE**"
      ],
      "metadata": {
        "id": "Q19WmExkIr9o"
      }
    },
    {
      "cell_type": "code",
      "source": [
        "l1 = [100,200,250,300,350]"
      ],
      "metadata": {
        "id": "YG2ZgHmdIwMu"
      },
      "execution_count": null,
      "outputs": []
    },
    {
      "cell_type": "code",
      "source": [
        "l1"
      ],
      "metadata": {
        "colab": {
          "base_uri": "https://localhost:8080/"
        },
        "id": "lGVdAzjTI8-o",
        "outputId": "1cdc3d92-d822-4e43-b851-827f1ee377b3"
      },
      "execution_count": null,
      "outputs": [
        {
          "output_type": "execute_result",
          "data": {
            "text/plain": [
              "[100, 200, 250, 300, 350]"
            ]
          },
          "metadata": {},
          "execution_count": 36
        }
      ]
    },
    {
      "cell_type": "code",
      "source": [
        "#Syntax\n",
        "#List [] or li = []\n",
        "l1 = [100,200,250,300,350]\n",
        "print(\"Intial list:\",l1)\n",
        "\n",
        "#Length\n",
        "len1 = len(l1)\n",
        "print(\"Length of Intial list:\",len1)\n",
        "\n",
        "#Access\n",
        "print(\"1st element of list:\", l1[0])\n",
        "print(\"from 2nd to 4th elements of list:\", l1[1:4])\n",
        "print(\"Last element of list:\", l1[-1])\n",
        "\n",
        "#Adding elements\n",
        "#1.Append elements\n",
        "l1.append(10)\n",
        "print(\"Append 10 to the list:\",l1)\n",
        "\n",
        "#2.Insert elements\n",
        "l1.insert(1,150)\n",
        "print(\"Insert 150 to the list\", l1)\n",
        "\n",
        "#3.Concatenation elements\n",
        "l1 = l1 + [115,125]\n",
        "print(\"Concatenate 2 lists:\", l1)\n",
        "\n",
        "#Removing elements\n",
        "l1.remove(250)\n",
        "print(\"Removed 250 from the list:\", l1)\n",
        "\n",
        "#sort elements\n",
        "l1.sort()\n",
        "print(\"Sorted list:\", l1)\n",
        "\n",
        "#reverse elements\n",
        "l1.reverse()\n",
        "print(\"Reversed list:\", l1)\n",
        "\n",
        "#contains element\n",
        "print(\"Contains 100:\", 100 in l1)"
      ],
      "metadata": {
        "colab": {
          "base_uri": "https://localhost:8080/"
        },
        "id": "Be6Zc2WpI_iJ",
        "outputId": "43035339-8240-44d4-e15c-0c65b540e339"
      },
      "execution_count": null,
      "outputs": [
        {
          "output_type": "stream",
          "name": "stdout",
          "text": [
            "Intial list: [100, 200, 250, 300, 350]\n",
            "Length of Intial list: 5\n",
            "1st element of list: 100\n",
            "from 2nd to 4th elements of list: [200, 250, 300]\n",
            "Last element of list: 350\n",
            "Append 10 to the list: [100, 200, 250, 300, 350, 10]\n",
            "Insert 150 to the list [100, 150, 200, 250, 300, 350, 10]\n",
            "Concatenate 2 lists: [100, 150, 200, 250, 300, 350, 10, 115, 125]\n",
            "Removed 250 from the list: [100, 150, 200, 300, 350, 10, 115, 125]\n",
            "Sorted list: [10, 100, 115, 125, 150, 200, 300, 350]\n",
            "Reversed list: [350, 300, 200, 150, 125, 115, 100, 10]\n",
            "Contains 100: True\n"
          ]
        }
      ]
    },
    {
      "cell_type": "markdown",
      "source": [
        "**SET** : **This is used to store UNORDERED group of Unique elements**"
      ],
      "metadata": {
        "id": "OZikr3r_OfYW"
      }
    },
    {
      "cell_type": "code",
      "source": [
        "#syntax\n",
        "# set1 = {} or set1 = {[]} or set(list)\n",
        "set1 = {\"Patient 1\",\"Patient 2\",\"Patient 3\", \"Patient 4\"}\n",
        "print(\"Initial Set: \",set1)\n",
        "\n",
        "print(\"Length of Initial set:\",len(set1))\n",
        "\n",
        "# Unique elements in a list\n",
        "list1 = [\"Patient 1\",\"Patient 2\",\"Patient 3\",\n",
        "         \"Patient 2\",\"Patient 3\",\"Patient 1\",\n",
        "         \"Patient 2\"]\n",
        "set2 = set(list1)\n",
        "print(\"Unique elements of list:\",set2)\n",
        "\n",
        "# Substract 2 sets\n",
        "\n",
        "set3 = set1 - set2\n",
        "print(\"Difference between 2 sets:\",set3)\n",
        "\n",
        "set4 = set2 - set1\n",
        "print(\"Difference between 2 sets:\",set4)"
      ],
      "metadata": {
        "colab": {
          "base_uri": "https://localhost:8080/"
        },
        "id": "144VVRX7Xg7W",
        "outputId": "245222fe-a18c-496c-e98d-636e6e089c27"
      },
      "execution_count": null,
      "outputs": [
        {
          "output_type": "stream",
          "name": "stdout",
          "text": [
            "Initial Set:  {'Patient 3', 'Patient 1', 'Patient 4', 'Patient 2'}\n",
            "Length of Initial set: 4\n",
            "Unique elements of list: {'Patient 3', 'Patient 1', 'Patient 2'}\n",
            "Difference between 2 sets: {'Patient 4'}\n",
            "Difference between 2 sets: set()\n"
          ]
        }
      ]
    },
    {
      "cell_type": "markdown",
      "source": [
        "**DICTIONARY: This is used to create key value pairs where each key is unique**"
      ],
      "metadata": {
        "id": "cVbVIeb6TjRJ"
      }
    },
    {
      "cell_type": "code",
      "source": [
        "#Syntax\n",
        "#dict = {\":\", \":\"}\n",
        "\n",
        "dict_age = {\"Patient 1\":20,\n",
        "            \"Patient 2\":25,\n",
        "            \"Patient 3\":30}\n",
        "print(dict_age)\n",
        "\n",
        "#Access keys\n",
        "print(\"Keys are:\", dict_age.keys())\n",
        "\n",
        "#Access values\n",
        "print(\"values are:\", dict_age.values())\n",
        "\n",
        "#Access items\n",
        "print(\"items are:\", dict_age.items())\n",
        "\n",
        "#Access value based on key\n",
        "print(\"value of key Patient 1:\", dict_age.get(\"Patient 1\"))\n",
        "\n",
        "#Access value based on key\n",
        "print(\"value of key Patient 1:\", dict_age[\"Patient 1\"])"
      ],
      "metadata": {
        "colab": {
          "base_uri": "https://localhost:8080/"
        },
        "id": "nLffEnKwTsks",
        "outputId": "005d888b-040f-435a-9a05-294072792ef1"
      },
      "execution_count": null,
      "outputs": [
        {
          "output_type": "stream",
          "name": "stdout",
          "text": [
            "{'Patient 1': 20, 'Patient 2': 25, 'Patient 3': 30}\n",
            "Keys are: dict_keys(['Patient 1', 'Patient 2', 'Patient 3'])\n",
            "values are: dict_values([20, 25, 30])\n",
            "items are: dict_items([('Patient 1', 20), ('Patient 2', 25), ('Patient 3', 30)])\n",
            "value of key Patient 1: 20\n",
            "value of key Patient 1: 20\n"
          ]
        }
      ]
    },
    {
      "cell_type": "markdown",
      "source": [
        "**Tuples : This is used to store ordered set of immutable elements**"
      ],
      "metadata": {
        "id": "SnxxrxBdVb2t"
      }
    },
    {
      "cell_type": "code",
      "source": [
        "#Example Tuple representing patient information\n",
        "patient1 = (\"Patient 1\",30, \"Male\")\n",
        "patient2 = (\"Patient 2\",35, \"Female\")\n",
        "\n",
        "#Access\n",
        "print(\"Age of Patient 1:\", patient1[1])\n",
        "print(\"Gender of Patient 2:\", patient2[2])\n",
        "\n",
        "#Unpacking\n",
        "p1_name,p1_age,p1_gender = patient1\n",
        "print(\"Name of Patient 1:\", p1_name)\n",
        "print(\"Age of Patient 1:\", p1_age)\n",
        "print(\"Gender of Patient 1:\", p1_gender)"
      ],
      "metadata": {
        "colab": {
          "base_uri": "https://localhost:8080/"
        },
        "id": "BaHaYqHBVaqp",
        "outputId": "1e9a874c-f66d-4966-8276-824133ef464c"
      },
      "execution_count": null,
      "outputs": [
        {
          "output_type": "stream",
          "name": "stdout",
          "text": [
            "Age of Patient 1: 30\n",
            "Gender of Patient 2: Female\n",
            "Name of Patient 1: Patient 1\n",
            "Age of Patient 1: 30\n",
            "Gender of Patient 1: Male\n"
          ]
        }
      ]
    },
    {
      "cell_type": "markdown",
      "source": [
        "**CONDITIONAL** **STATEMENTS**"
      ],
      "metadata": {
        "id": "QHuKgWNHpDUC"
      }
    },
    {
      "cell_type": "code",
      "source": [
        "#Example of if,elif and else\n",
        "#Syntax\n",
        "#if condition:\n",
        "#  Block of code\n",
        "#elif condition:\n",
        "#  Block of code\n",
        "#else condition:\n",
        "#  Block of code\n",
        "\n",
        "var_age = 32\n",
        "if var_age>34 :\n",
        "  print(\"Greater than 34\")\n",
        "elif var_age<34:\n",
        "  print(\"Less than 34\")\n",
        "else:\n",
        "  print(\"Equal to 34\")"
      ],
      "metadata": {
        "colab": {
          "base_uri": "https://localhost:8080/"
        },
        "id": "c7iLPXTnpBWu",
        "outputId": "416cc82a-2fc3-4b11-8dc0-16874fc95012"
      },
      "execution_count": null,
      "outputs": [
        {
          "output_type": "stream",
          "name": "stdout",
          "text": [
            "Less than 34\n"
          ]
        }
      ]
    },
    {
      "cell_type": "code",
      "source": [
        "#Check the number is even or odd\n",
        "\n",
        "var_number = 23\n",
        "if var_number%2 == 0 :\n",
        "  print(\"Even\")\n",
        "else:\n",
        "  print(\"Odd\")\n"
      ],
      "metadata": {
        "colab": {
          "base_uri": "https://localhost:8080/"
        },
        "id": "gEKyZSsVrg80",
        "outputId": "8a3be996-3ee2-4b52-de53-0aeeb595138e"
      },
      "execution_count": null,
      "outputs": [
        {
          "output_type": "stream",
          "name": "stdout",
          "text": [
            "Odd\n"
          ]
        }
      ]
    },
    {
      "cell_type": "markdown",
      "source": [
        "**NOT** **Operator**"
      ],
      "metadata": {
        "id": "xXMjmLzmsrDZ"
      }
    },
    {
      "cell_type": "code",
      "source": [
        "var_age = 14\n",
        "if not var_age <= 19:\n",
        "  print(\"Greater than 19\")\n",
        "else:\n",
        "  print(\"Lesser than 19\")"
      ],
      "metadata": {
        "colab": {
          "base_uri": "https://localhost:8080/"
        },
        "id": "AyHRukmssviN",
        "outputId": "8aaa8f0c-9635-4a04-8dd2-63ea24ba03f5"
      },
      "execution_count": null,
      "outputs": [
        {
          "output_type": "stream",
          "name": "stdout",
          "text": [
            "Lesser than 19\n"
          ]
        }
      ]
    },
    {
      "cell_type": "code",
      "source": [
        "#Multiple Conditions\n",
        "\n",
        "var = 23\n",
        "if var >= 10 and var <= 30:\n",
        "  print(\"Greater than 10 and Lesser than 30\")"
      ],
      "metadata": {
        "colab": {
          "base_uri": "https://localhost:8080/"
        },
        "id": "WBbJcJ_btb21",
        "outputId": "4126f2c0-5261-4478-aead-5b8e59af73a1"
      },
      "execution_count": null,
      "outputs": [
        {
          "output_type": "stream",
          "name": "stdout",
          "text": [
            "Greater than 10 and Lesser than 30\n"
          ]
        }
      ]
    },
    {
      "cell_type": "code",
      "source": [
        "# Nested if Conditions\n",
        "\n",
        "var_patients = 32\n",
        "var_hospitals = 14\n",
        "if var_patients >= 32:\n",
        "  if var_hospitals <= 14:\n",
        "    print(\"Patients are Greater than 32 and Hospitals are Lesser than 14\")\n",
        "  else:\n",
        "      print(\"Patients are Greater than 32 and Hospitals are Lesser than 14\")"
      ],
      "metadata": {
        "colab": {
          "base_uri": "https://localhost:8080/"
        },
        "id": "IMm2gRBQt9rF",
        "outputId": "3a0ac46d-6437-45a1-e669-fc0f724c3a36"
      },
      "execution_count": null,
      "outputs": [
        {
          "output_type": "stream",
          "name": "stdout",
          "text": [
            "Patients are Greater than 32 and Hospitals are Lesser than 14\n"
          ]
        }
      ]
    },
    {
      "cell_type": "markdown",
      "source": [
        "**LOOPS**\n",
        "* **for** **loop**\n",
        "* **while** **loop**"
      ],
      "metadata": {
        "id": "EnCPWWf2vB3N"
      }
    },
    {
      "cell_type": "code",
      "source": [
        "#For Loop Example\n",
        "\n",
        "# Syntax\n",
        "# for i in seq:\n",
        "   #Block of Code\n",
        "\n",
        "# while condition:\n",
        "   #Block of Code\n",
        "\n",
        "var_patient = [\"Sahara\",\"Shreshta\",\"Arjun\",\"Shakthi\"]\n",
        "var_age = [20,27,25,24]\n",
        "for i in var_patient:\n",
        "  print(\"Welcome to the Hospital\",i)\n",
        "\n",
        "# For loop with if condition\n",
        "\n",
        "count = 0\n",
        "for i in var_age:\n",
        "  if i >= 25:\n",
        "    count = count + 1\n",
        "print(\"The no. of patients whose age is greater than 25 are:\",count)"
      ],
      "metadata": {
        "colab": {
          "base_uri": "https://localhost:8080/"
        },
        "id": "bAD9tngIvBds",
        "outputId": "2371af73-f0b4-4659-d55c-c9160d8a5c42"
      },
      "execution_count": null,
      "outputs": [
        {
          "output_type": "stream",
          "name": "stdout",
          "text": [
            "Welcome to the Hospital Sahara\n",
            "Welcome to the Hospital Shreshta\n",
            "Welcome to the Hospital Arjun\n",
            "Welcome to the Hospital Shakthi\n",
            "The no. of patients whose age is greater than 25 are: 2\n"
          ]
        }
      ]
    },
    {
      "cell_type": "code",
      "source": [
        "var_grade = [2,3,1,2,1,3,2,3,1,2]\n",
        "\n",
        "count_even = 0\n",
        "count_odd = 0\n",
        "for i in var_grade:\n",
        "  if i % 2 == 0:\n",
        "    count_even = count_even + 1\n",
        "  else:\n",
        "    count_odd = count_odd + 1\n",
        "print(\"The no. of even numbers are:\",count_even)\n",
        "print(\"The no. of odd numbers are:\",count_odd)\n"
      ],
      "metadata": {
        "colab": {
          "base_uri": "https://localhost:8080/"
        },
        "id": "DNgmI5D_xxc1",
        "outputId": "7ba5bf7c-5a56-4be6-d04b-6bb3683fd072"
      },
      "execution_count": null,
      "outputs": [
        {
          "output_type": "stream",
          "name": "stdout",
          "text": [
            "The no. of even numbers are: 4\n",
            "The no. of odd numbers are: 6\n"
          ]
        }
      ]
    },
    {
      "cell_type": "code",
      "source": [
        "# while loop\n",
        "\n",
        "num_medicine = 23\n",
        "while num_medicine > 0:\n",
        "  num_medicine = num_medicine - 1\n",
        "  print(\"The no. of medicines left are:\",num_medicine)"
      ],
      "metadata": {
        "colab": {
          "base_uri": "https://localhost:8080/"
        },
        "id": "kb3FFiiZ0ird",
        "outputId": "249adbf5-1559-41ed-c077-2f19ba0ef35d"
      },
      "execution_count": null,
      "outputs": [
        {
          "output_type": "stream",
          "name": "stdout",
          "text": [
            "The no. of medicines left are: 22\n",
            "The no. of medicines left are: 21\n",
            "The no. of medicines left are: 20\n",
            "The no. of medicines left are: 19\n",
            "The no. of medicines left are: 18\n",
            "The no. of medicines left are: 17\n",
            "The no. of medicines left are: 16\n",
            "The no. of medicines left are: 15\n",
            "The no. of medicines left are: 14\n",
            "The no. of medicines left are: 13\n",
            "The no. of medicines left are: 12\n",
            "The no. of medicines left are: 11\n",
            "The no. of medicines left are: 10\n",
            "The no. of medicines left are: 9\n",
            "The no. of medicines left are: 8\n",
            "The no. of medicines left are: 7\n",
            "The no. of medicines left are: 6\n",
            "The no. of medicines left are: 5\n",
            "The no. of medicines left are: 4\n",
            "The no. of medicines left are: 3\n",
            "The no. of medicines left are: 2\n",
            "The no. of medicines left are: 1\n",
            "The no. of medicines left are: 0\n"
          ]
        }
      ]
    },
    {
      "cell_type": "code",
      "source": [
        "for i in range(2,6,1): #range(a,b,c : a - start, b - stop, c- increment)\n",
        "  print(i)"
      ],
      "metadata": {
        "colab": {
          "base_uri": "https://localhost:8080/"
        },
        "id": "ywg-RqsX7Qyv",
        "outputId": "68733f49-5af7-47ed-a404-4afd1863c5ad"
      },
      "execution_count": null,
      "outputs": [
        {
          "output_type": "stream",
          "name": "stdout",
          "text": [
            "2\n",
            "3\n",
            "4\n",
            "5\n"
          ]
        }
      ]
    },
    {
      "cell_type": "markdown",
      "source": [
        "**STATEMENTS**:  \n",
        "1.**BREAK STATEMENT**    \n",
        "2.**CONTINUE STATEMENT**"
      ],
      "metadata": {
        "id": "0BkcuVTt8JX5"
      }
    },
    {
      "cell_type": "code",
      "source": [
        "#Break Statement Example\n",
        "name = [\"Sahara\",\"Shreshta\",\"Arjun\",\"Shakthi\"]\n",
        "for i in name:\n",
        "  if i == \"Arjun\":\n",
        "    print(\"Found Arjun\")\n",
        "    break\n",
        "  else:\n",
        "    print(\"Did not find Arjun\") #using to stop the process"
      ],
      "metadata": {
        "colab": {
          "base_uri": "https://localhost:8080/"
        },
        "id": "U92hY5W98HZA",
        "outputId": "1d06ae70-5268-4266-f7cc-0d77e9107fa1"
      },
      "execution_count": null,
      "outputs": [
        {
          "output_type": "stream",
          "name": "stdout",
          "text": [
            "Did not find Arjun\n",
            "Did not find Arjun\n",
            "Found Arjun\n"
          ]
        }
      ]
    },
    {
      "cell_type": "code",
      "source": [
        "#Continue Statement Example\n",
        "var_bp = [120,110,130,110,140,125,115]\n",
        "for i in var_bp:\n",
        "  if i == 140:\n",
        "    continue\n",
        "  else:\n",
        "    print(\"High BP Value(mmHg):\",i) #using if anything needs to be skip"
      ],
      "metadata": {
        "colab": {
          "base_uri": "https://localhost:8080/"
        },
        "id": "dhrTyf1r9RKP",
        "outputId": "894cd0fc-bbb6-41c4-ae9b-a1e799e2715b"
      },
      "execution_count": null,
      "outputs": [
        {
          "output_type": "stream",
          "name": "stdout",
          "text": [
            "High BP Value(mmHg): 120\n",
            "High BP Value(mmHg): 110\n",
            "High BP Value(mmHg): 130\n",
            "High BP Value(mmHg): 110\n",
            "High BP Value(mmHg): 125\n",
            "High BP Value(mmHg): 115\n"
          ]
        }
      ]
    },
    {
      "cell_type": "markdown",
      "source": [
        "**ENUMERATE : This is used to iterate over both Index and Value**"
      ],
      "metadata": {
        "id": "azCU3q4dANtm"
      }
    },
    {
      "cell_type": "code",
      "source": [
        "var_bp = [120,110,130,110,140,125,115]\n",
        "for index,i in enumerate(var_bp):\n",
        "  print(index, i)"
      ],
      "metadata": {
        "colab": {
          "base_uri": "https://localhost:8080/"
        },
        "id": "hdodDaZtAM8h",
        "outputId": "be51c7b7-0c5a-4876-ac0b-97a3a06494a8"
      },
      "execution_count": null,
      "outputs": [
        {
          "output_type": "stream",
          "name": "stdout",
          "text": [
            "0 120\n",
            "1 110\n",
            "2 130\n",
            "3 110\n",
            "4 140\n",
            "5 125\n",
            "6 115\n"
          ]
        }
      ]
    },
    {
      "cell_type": "code",
      "source": [
        "var_bp = [120,110,130,110,140,125,115]\n",
        "for index,i in enumerate(var_bp):\n",
        "  if i > 120:\n",
        "    print(\"Index:\",index,\"BP Value(mmHg):\",i)"
      ],
      "metadata": {
        "colab": {
          "base_uri": "https://localhost:8080/"
        },
        "id": "MZTkzHboA6pU",
        "outputId": "4bec20f1-69d7-4fcd-e3a1-5da624cf5ba4"
      },
      "execution_count": null,
      "outputs": [
        {
          "output_type": "stream",
          "name": "stdout",
          "text": [
            "Index: 2 BP Value(mmHg): 130\n",
            "Index: 4 BP Value(mmHg): 140\n",
            "Index: 5 BP Value(mmHg): 125\n"
          ]
        }
      ]
    },
    {
      "cell_type": "markdown",
      "source": [
        "**ZIP : This is used to merge multiple lists and iterate in a single**"
      ],
      "metadata": {
        "id": "jV3PqebvCmK5"
      }
    },
    {
      "cell_type": "code",
      "source": [
        "var_patient = [\"Sahara\",\"Shreshta\",\"Arjun\",\"Shakthi\"]\n",
        "var_age = [20,27,25,24]\n",
        "var_weight = [30.5,54.5,65.4,43.1,42.1]\n",
        "\n",
        "for num1, num2, num3 in zip(var_patient,var_age,var_weight):\n",
        "  print(f\"Patient ID: {num1} Age:{num2} Weight:{num3}\")"
      ],
      "metadata": {
        "colab": {
          "base_uri": "https://localhost:8080/"
        },
        "id": "d2pIErGOCaP0",
        "outputId": "6c4ce8d0-60a3-4206-da63-4fb9b045b348"
      },
      "execution_count": null,
      "outputs": [
        {
          "output_type": "stream",
          "name": "stdout",
          "text": [
            "Patient ID: Sahara Age:20 Weight:30.5\n",
            "Patient ID: Shreshta Age:27 Weight:54.5\n",
            "Patient ID: Arjun Age:25 Weight:65.4\n",
            "Patient ID: Shakthi Age:24 Weight:43.1\n"
          ]
        }
      ]
    },
    {
      "cell_type": "markdown",
      "source": [
        "**DAY 2**"
      ],
      "metadata": {
        "id": "pJmOO2-b4tGk"
      }
    },
    {
      "cell_type": "markdown",
      "source": [
        "**Functions**"
      ],
      "metadata": {
        "id": "3NGV2h834wul"
      }
    },
    {
      "cell_type": "code",
      "source": [
        "def fn_add(a,b):\n",
        "  c = a + b\n",
        "  return c\n",
        "\n",
        "var_sum = fn_add(2,3)\n",
        "print(\"Addition of 2 numbers is:\", var_sum)\n",
        "fn_add(4,2)"
      ],
      "metadata": {
        "colab": {
          "base_uri": "https://localhost:8080/"
        },
        "id": "5kIklxwH40eP",
        "outputId": "e28e7787-5b8b-4478-e4d1-70bb08ae96ed"
      },
      "execution_count": null,
      "outputs": [
        {
          "output_type": "stream",
          "name": "stdout",
          "text": [
            "Addition of 2 numbers is: 5\n"
          ]
        },
        {
          "output_type": "execute_result",
          "data": {
            "text/plain": [
              "6"
            ]
          },
          "metadata": {},
          "execution_count": 4
        }
      ]
    },
    {
      "cell_type": "code",
      "source": [
        "#Subtraction\n",
        "def fn_sub(a,b):\n",
        "  c = a - b\n",
        "  return c\n",
        "\n",
        "var_sub = fn_sub(20,3)\n",
        "print(\"Subtraction of 2 numbers is:\", var_sub)\n",
        "\n",
        "#Multiplication\n",
        "def fn_mul(a,b):\n",
        "  c = a * b\n",
        "  return c\n",
        "\n",
        "var_mul = fn_mul(21,32)\n",
        "print(\"Multiplication of 2 numbers is:\", var_mul)\n",
        "\n",
        "#Division\n",
        "def fn_div(a,b):\n",
        "  c = a / b\n",
        "  return c\n",
        "\n",
        "var_div = fn_div(24,3)\n",
        "print(\"Division of 2 numbers is:\", var_div)\n",
        "\n",
        "fn_sub(20,3)\n",
        "fn_mul(21,32)\n",
        "fn_div(24,3)"
      ],
      "metadata": {
        "colab": {
          "base_uri": "https://localhost:8080/"
        },
        "id": "lzuOtmfy6AOE",
        "outputId": "8f67e362-567c-4f2d-b7b2-aaa5908a7687"
      },
      "execution_count": null,
      "outputs": [
        {
          "output_type": "stream",
          "name": "stdout",
          "text": [
            "Subtraction of 2 numbers is: 17\n",
            "Multiplication of 2 numbers is: 672\n",
            "Division of 2 numbers is: 8.0\n"
          ]
        },
        {
          "output_type": "execute_result",
          "data": {
            "text/plain": [
              "8.0"
            ]
          },
          "metadata": {},
          "execution_count": 12
        }
      ]
    },
    {
      "cell_type": "code",
      "source": [
        "# Arithmetic Operations\n",
        "\n",
        "def fn_arith(a,b,c):\n",
        "  x = (a*b)/c\n",
        "  return x\n",
        "\n",
        "var_arith = fn_arith(4,3,2)\n",
        "print(\"The result is:\",var_arith)\n",
        "\n",
        "print(fn_arith(4,3,2))\n",
        "fn_arith(4,6,1)"
      ],
      "metadata": {
        "colab": {
          "base_uri": "https://localhost:8080/"
        },
        "id": "XZFZlffj7pHr",
        "outputId": "da0771c5-ea6c-4be9-897d-b5aeeb39d4fc"
      },
      "execution_count": null,
      "outputs": [
        {
          "output_type": "stream",
          "name": "stdout",
          "text": [
            "The result is: 6.0\n",
            "6.0\n"
          ]
        },
        {
          "output_type": "execute_result",
          "data": {
            "text/plain": [
              "24.0"
            ]
          },
          "metadata": {},
          "execution_count": 95
        }
      ]
    },
    {
      "cell_type": "code",
      "source": [
        "def greet(name,age,gender):\n",
        "  print(f\"Hi, welcome to the hospital:{name}\")\n",
        "  print(f\"Your age is:{age}\")\n",
        "  print(f\"Your gender is:{gender}\")\n",
        "\n",
        "greet(\"Arjun\",25,\"Male\")\n",
        "greet(\"Shakthi\",24,\"Female\")\n",
        "\n",
        "# Function with return values\n",
        "def sub(a,b=5):\n",
        "  c = a - b\n",
        "  return c\n",
        "\n",
        "sub_var = sub(2,1)\n",
        "sub_var_default = sub(2)\n",
        "print(\"Subtraction of 2 numbers is:\", sub_var)\n",
        "print(\"Subtraction of 2 numbers is:\", sub_var_default)"
      ],
      "metadata": {
        "colab": {
          "base_uri": "https://localhost:8080/"
        },
        "id": "DuQkl46k9MwE",
        "outputId": "8e5a34e0-1f26-4649-f556-8941dad9fee4"
      },
      "execution_count": null,
      "outputs": [
        {
          "output_type": "stream",
          "name": "stdout",
          "text": [
            "Hi, welcome to the hospital:Arjun\n",
            "Your age is:25\n",
            "Your gender is:Male\n",
            "Hi, welcome to the hospital:Shakthi\n",
            "Your age is:24\n",
            "Your gender is:Female\n",
            "Subtraction of 2 numbers is: 1\n",
            "Subtraction of 2 numbers is: -3\n"
          ]
        }
      ]
    },
    {
      "cell_type": "code",
      "source": [
        "# Arithmetic Operations\n",
        "# With Default Value\n",
        "\n",
        "def fn_arith(a, c, b = 14):\n",
        "  x = (a*b)/c\n",
        "  return x\n",
        "\n",
        "var_arith = fn_arith(4,3,2)\n",
        "var_arith_default = fn_arith(4,2)\n",
        "\n",
        "print(\"The result is:\",var_arith)\n",
        "print(\"The result is:\",var_arith_default )\n",
        "\n"
      ],
      "metadata": {
        "colab": {
          "base_uri": "https://localhost:8080/"
        },
        "id": "vmSUrIk7BeH4",
        "outputId": "ff53303c-5bde-4302-f452-b56a03b65bcc"
      },
      "execution_count": null,
      "outputs": [
        {
          "output_type": "stream",
          "name": "stdout",
          "text": [
            "The result is: 2.6666666666666665\n",
            "The result is: 28.0\n"
          ]
        }
      ]
    },
    {
      "cell_type": "code",
      "source": [
        "#Function with if condition\n",
        "\n",
        "def classify_salary(salary):\n",
        "  if salary < 15000:\n",
        "    return \"Receptionist\"\n",
        "  elif salary > 15000 and salary < 35000:\n",
        "    return \"Nurse\"\n",
        "  else:\n",
        "    return \"Doctor\"\n",
        "\n",
        "salary = 10000\n",
        "var_person1 = classify_salary(salary)\n",
        "print(f\"The person with Salary {salary} is: {var_person1}\")\n",
        "\n",
        "classify_salary(37600)\n"
      ],
      "metadata": {
        "colab": {
          "base_uri": "https://localhost:8080/",
          "height": 53
        },
        "id": "cAe-krzECcyg",
        "outputId": "efe7dab7-5f46-44cc-c4d7-4b67241fd5b7"
      },
      "execution_count": null,
      "outputs": [
        {
          "output_type": "stream",
          "name": "stdout",
          "text": [
            "The person with Salary 10000 is: Receptionist\n"
          ]
        },
        {
          "output_type": "execute_result",
          "data": {
            "text/plain": [
              "'Doctor'"
            ],
            "application/vnd.google.colaboratory.intrinsic+json": {
              "type": "string"
            }
          },
          "metadata": {},
          "execution_count": 33
        }
      ]
    },
    {
      "cell_type": "code",
      "source": [
        "def add_three(list_age):\n",
        "  list_age_three = []\n",
        "  for i in list_age:\n",
        "    list_age_three.append(i+3)\n",
        "  return list_age_three\n",
        "\n",
        "list_sample = [1,2,3,4,5]\n",
        "list_sample = add_three(list_sample)\n",
        "print(list_sample)"
      ],
      "metadata": {
        "colab": {
          "base_uri": "https://localhost:8080/"
        },
        "id": "g7tzSD7wE8Ti",
        "outputId": "087ff034-a68e-4579-df93-34f74f3eb986"
      },
      "execution_count": null,
      "outputs": [
        {
          "output_type": "stream",
          "name": "stdout",
          "text": [
            "[4, 5, 6, 7, 8]\n"
          ]
        }
      ]
    },
    {
      "cell_type": "code",
      "source": [
        "#Append only if it is an even number\n",
        "\n",
        "def add_three(list_age):\n",
        "  list_age_three = []\n",
        "  for i in list_age:\n",
        "    if i%2 == 0:\n",
        "      list_age_three.append(i+3)\n",
        "  return list_age_three\n",
        "\n",
        "list_sample = [1,2,3,4,5]\n",
        "list_sample = add_three(list_sample)\n",
        "print(list_sample)"
      ],
      "metadata": {
        "colab": {
          "base_uri": "https://localhost:8080/"
        },
        "id": "9GqT8ur5FjOq",
        "outputId": "30497c31-cda8-47f7-cfdb-5767d0221282"
      },
      "execution_count": null,
      "outputs": [
        {
          "output_type": "stream",
          "name": "stdout",
          "text": [
            "[5, 7]\n"
          ]
        }
      ]
    },
    {
      "cell_type": "code",
      "source": [
        "# Defining both even and odd & printing as a whole\n",
        "def add(list_age):\n",
        "  list_even = []\n",
        "  list_odd = []\n",
        "  for i in list_age:\n",
        "    if i%2 != 0:\n",
        "      list_odd.append(i+2)\n",
        "    else:\n",
        "      list_even.append(i)\n",
        "  return list_odd, list_even\n",
        "\n",
        "list_sample = [1,2,3,4,5]                           #input\n",
        "list_sample_odd,list_sample_even = add(list_sample) #output\n",
        "print(list_sample_odd)\n",
        "print(list_sample_even)\n"
      ],
      "metadata": {
        "colab": {
          "base_uri": "https://localhost:8080/"
        },
        "id": "m7WFFfx_GC81",
        "outputId": "e13d3195-f9b4-4ea5-ca60-3fd0656ff93d"
      },
      "execution_count": null,
      "outputs": [
        {
          "output_type": "stream",
          "name": "stdout",
          "text": [
            "[3, 5, 7]\n",
            "[2, 4]\n"
          ]
        }
      ]
    },
    {
      "cell_type": "code",
      "source": [
        "\n",
        "def fn_lifestyle(diet,exercise):\n",
        "  if diet >= 3 and exercise >= 150:\n",
        "    return \"Good\"\n",
        "  elif diet < 3 and exercise < 150:\n",
        "    return \"Average\"\n",
        "  else:\n",
        "    return \"Poor\"\n",
        "\n",
        "\n",
        "var_diet = int(input(\"No. of meals per day\"))\n",
        "var_exercise = int(input(\"No. of minutes of exercise per week\"))\n",
        "\n",
        "var_lifestyle = fn_lifestyle(var_diet,var_exercise)\n",
        "\n",
        "print(f\"Your Lifestyle is: {var_lifestyle}\")"
      ],
      "metadata": {
        "colab": {
          "base_uri": "https://localhost:8080/"
        },
        "id": "w6yGReXGNFq7",
        "outputId": "3f65dc18-761e-4dc1-c9b4-23ccace8c1a4"
      },
      "execution_count": null,
      "outputs": [
        {
          "output_type": "stream",
          "name": "stdout",
          "text": [
            "No. of meals per day3\n",
            "No. of minutes of exercise per week150\n",
            "Your Lifestyle is: Good\n"
          ]
        }
      ]
    },
    {
      "cell_type": "markdown",
      "source": [
        "**CLASS AND OBJECTS**"
      ],
      "metadata": {
        "id": "qTPj4na2Yg9z"
      }
    },
    {
      "cell_type": "code",
      "source": [
        "#Defining a Class\n",
        "class Hospital:\n",
        "  def __init__(self,name,location,consultant_fee):\n",
        "    self.name = name                      #Atrribute\n",
        "    self.location = location              #Atrribute\n",
        "    self.consultant_fee = consultant_fee  #Atrribute\n",
        "\n",
        "  def start(self):                        #Method\n",
        "    print(f\"The {self.name} hospital is located at {self.location} and it has a consultant fee of {self.consultant_fee}\")\n",
        "\n",
        "\n",
        "#Creating an Object\n",
        "hospital1 = Hospital(\"Narayana\", \"JP Nagar\", \"300/-\")\n",
        "hospital2 = Hospital(\"Yashoda\", \"Jaya Nagar\", \"350/-\")\n",
        "hospital3 = Hospital(\"Sunrise\", \"Electronic City\", \"200/-\")\n",
        "\n",
        "#Accessing Attributes and Methods\n",
        "print(hospital1.name)\n",
        "hospital1.start()\n",
        "\n",
        "print(hospital2.location)\n",
        "hospital2.start()\n",
        "\n",
        "print(hospital3.consultant_fee)\n",
        "hospital3.start()"
      ],
      "metadata": {
        "colab": {
          "base_uri": "https://localhost:8080/"
        },
        "id": "hoAJZTREWCTY",
        "outputId": "3ba38313-e577-4313-d978-bd648edbb83a"
      },
      "execution_count": null,
      "outputs": [
        {
          "output_type": "stream",
          "name": "stdout",
          "text": [
            "Narayana\n",
            "The Narayana hospital is located at JP Nagar and it has a consultant fee of 300/-\n",
            "Jaya Nagar\n",
            "The Yashoda hospital is located at Jaya Nagar and it has a consultant fee of 350/-\n",
            "200/-\n",
            "The Sunrise hospital is located at Electronic City and it has a consultant fee of 200/-\n"
          ]
        }
      ]
    },
    {
      "cell_type": "code",
      "source": [
        "class calculator:\n",
        "  def __init__(self, brand, cost, color):\n",
        "    self.brand = brand\n",
        "    self.cost = cost\n",
        "    self.color = color\n",
        "\n",
        "  def start(self):\n",
        "    print(f\"The {self.brand} calculator costs {self.cost} and the color is {self.color} and do the functions like add,sub,mul,divide\")\n",
        "\n",
        "  def add(self,a,b):\n",
        "      return a+b\n",
        "\n",
        "  def sub(self,a,b):\n",
        "      return a-b\n",
        "\n",
        "  def mul(self,a,b):\n",
        "      return a*b\n",
        "\n",
        "  def div(self,a,b):\n",
        "      return a/b\n",
        "\n",
        "\n",
        "\n",
        "calculator1 = calculator(\"casio\",1040,\"black\")\n",
        "calculator2 = calculator(\"canon\",1400,\"white\")\n",
        "a = 3\n",
        "b = 5\n",
        "\n",
        "addition_result = calculator1.add(a,b)\n",
        "subtraction_result = calculator2.sub(a,b)\n",
        "multiplication_result = calculator2.mul(a,b)\n",
        "division_result = calculator1.div(a,b)\n",
        "\n",
        "print(\"Addition:\", addition_result)\n",
        "print(\"Subtraction:\", subtraction_result)\n",
        "print(\"Multiplication:\", multiplication_result)\n",
        "\n",
        "print(calculator1.brand)\n",
        "calculator1.start()\n",
        "print(calculator2.cost)\n",
        "calculator2.start()"
      ],
      "metadata": {
        "colab": {
          "base_uri": "https://localhost:8080/"
        },
        "id": "peQRdZ1NwWhj",
        "outputId": "4f91ee3b-8285-4c6f-b640-83fc9fff9120"
      },
      "execution_count": null,
      "outputs": [
        {
          "output_type": "stream",
          "name": "stdout",
          "text": [
            "Addition: 8\n",
            "Subtraction: -2\n",
            "Multiplication: 15\n",
            "casio\n",
            "The casio calculator costs 1040 and the color is black and do the functions like add,sub,mul,divide\n",
            "1400\n",
            "The canon calculator costs 1400 and the color is white and do the functions like add,sub,mul,divide\n"
          ]
        }
      ]
    },
    {
      "cell_type": "markdown",
      "source": [
        "**NUMPY**"
      ],
      "metadata": {
        "id": "SSzVZthH4h8V"
      }
    },
    {
      "cell_type": "code",
      "source": [
        "import numpy as np\n",
        "list1 = [1,2,3,4,5]\n",
        "np_var = np.array(list1)\n",
        "np_var[-1]"
      ],
      "metadata": {
        "colab": {
          "base_uri": "https://localhost:8080/"
        },
        "id": "cqCIw2qF4Ox6",
        "outputId": "14a149de-2700-4951-cff3-0388a4d42cb0"
      },
      "execution_count": null,
      "outputs": [
        {
          "output_type": "execute_result",
          "data": {
            "text/plain": [
              "5"
            ]
          },
          "metadata": {},
          "execution_count": 18
        }
      ]
    },
    {
      "cell_type": "code",
      "source": [
        "np_var[np_var > 3]\n"
      ],
      "metadata": {
        "colab": {
          "base_uri": "https://localhost:8080/"
        },
        "id": "xKZh7lRf43AB",
        "outputId": "ee02ab26-dc09-4046-d9b2-593cbe8059f2"
      },
      "execution_count": null,
      "outputs": [
        {
          "output_type": "execute_result",
          "data": {
            "text/plain": [
              "array([4, 5])"
            ]
          },
          "metadata": {},
          "execution_count": 19
        }
      ]
    },
    {
      "cell_type": "code",
      "source": [
        "# np_arr = np.array([])\n",
        "\n",
        "np_arr = np.array([1,2,3,4,5])\n",
        "print(\"The numpy array is:\",np_arr) #array\n",
        "print(\"The length of the array is:\", len(np_arr)) #length\n",
        "print(\"The second element of the array is:\",(np_arr[1])) #access\n",
        "print(\"The resultant of 5 added to the numpy array is:\",(np_arr + 5)) #append/add\n",
        "print(\"The addition of all elements in the numpy array is:\",np.sum(np_arr)) #sum of all elements of array\n",
        "print(\"The minimum of all elements in the numpy array is:\",np.min(np_arr)) #least no. of array\n",
        "print(\"The maximum of all elements in the numpy array is:\",np.max(np_arr)) #greater no. of array\n",
        "print(f\"The mean of all elements in the numpy array is:{np.mean(np_arr)} and standard deviation is:{np.std(np_arr)}\") #mean & standard deviation\n",
        "print(\"Shape of the array is:\", np_arr.shape) #shape\n",
        "\n",
        "# Filter\n",
        "np_arr1 = np_arr[(np_arr > 1) & (np_arr < 4)]\n",
        "print(\"Array elements greater than 1 and less than 4 are:\",np_arr1)\n",
        "\n",
        "#Sort\n",
        "\n",
        "np_asc = np.sort(np_arr)\n",
        "np_desc = np.sort(np_arr)[::-1]\n",
        "print(\"The sorted array in ascending order is:\",np_asc)\n",
        "print(\"The sorted array in descending order is:\",np_desc)\n"
      ],
      "metadata": {
        "colab": {
          "base_uri": "https://localhost:8080/"
        },
        "id": "C7x_s82c53VY",
        "outputId": "517ebd06-f2e1-45fa-843f-82b645599a8f"
      },
      "execution_count": null,
      "outputs": [
        {
          "output_type": "stream",
          "name": "stdout",
          "text": [
            "The numpy array is: [1 2 3 4 5]\n",
            "The length of the array is: 5\n",
            "The second element of the array is: 2\n",
            "The resultant of 5 added to the numpy array is: [ 6  7  8  9 10]\n",
            "The addition of all elements in the numpy array is: 15\n",
            "The minimum of all elements in the numpy array is: 1\n",
            "The maximum of all elements in the numpy array is: 5\n",
            "The mean of all elements in the numpy array is:3.0 and standard deviation is:1.4142135623730951\n",
            "Shape of the array is: (5,)\n",
            "Array elements greater than 1 and less than 4 are: [2 3]\n",
            "The sorted array in ascending order is: [1 2 3 4 5]\n",
            "The sorted array in descending order is: [5 4 3 2 1]\n"
          ]
        }
      ]
    },
    {
      "cell_type": "code",
      "source": [
        "#Elementwise Operation\n",
        "\n",
        "np_arr1 = np.array([1,2,3,4,5])\n",
        "np_arr2 = np.array([6,7,8,9,10])\n",
        "print(\"The addition of 2 arrays is:\",np.add(np_arr1,np_arr2))\n",
        "print(\"The subtraction of 2 arrays is:\",np.subtract(np_arr1,np_arr2))\n",
        "print(\"The multiplication of 2 arrays is:\",np.multiply(np_arr2,np_arr1))\n",
        "print(\"The division of 2 arrays is:\",np.divide(np_arr2,np_arr1))"
      ],
      "metadata": {
        "colab": {
          "base_uri": "https://localhost:8080/"
        },
        "id": "ugMvCZUtAdbv",
        "outputId": "767ccc23-1193-4945-d7ff-70cf6ab2c769"
      },
      "execution_count": null,
      "outputs": [
        {
          "output_type": "stream",
          "name": "stdout",
          "text": [
            "The addition of 2 arrays is: [ 7  9 11 13 15]\n",
            "The subtraction of 2 arrays is: [-5 -5 -5 -5 -5]\n",
            "The multiplication of 2 arrays is: [ 6 14 24 36 50]\n",
            "The division of 2 arrays is: [6.         3.5        2.66666667 2.25       2.        ]\n"
          ]
        }
      ]
    },
    {
      "cell_type": "markdown",
      "source": [
        "MultiDimensional Array"
      ],
      "metadata": {
        "id": "0hVay_WQCn7S"
      }
    },
    {
      "cell_type": "code",
      "source": [
        "np_arr_2D = np.array([[1,2,3,4,5],[6,7,8,9,10]])\n",
        "\n",
        "print(\"The Initial array is:\",np_arr_2D) #Initial Array\n",
        "print(\"The Shape of the array is:\",np_arr_2D.shape) #Shape\n",
        "print(\"The no. of rows in an array is:\",np_arr_2D.shape[0]) #No. of Rows in the Array\n",
        "print(\"The no. of columns in an array is:\",np_arr_2D.shape[1]) #No. of Columns in the Array\n",
        "print(\"First row of the array is:\", np_arr_2D[0,:]) #First Row of the Array\n",
        "print(\"First Column of the array is:\", np_arr_2D[:,0]) #First Column of the Array\n",
        "print(\"First Column first row element of the array:\", np_arr_2D[0,0]) #First Column first row element of the Array\n",
        "print(\"1D reshaped array is:\", np_arr_2D.reshape(-1)) #1D Reshape\n",
        "print(\"Transpose of the array is:\", np_arr_2D.T) #Transpose\n",
        "\n",
        "#Matric Multiplication\n",
        "np_arr1 = np.array([[1,2,3],[4,5,6]])\n",
        "np_arr2 = np.array([[7,8],[9,10]])\n",
        "result = np.dot(np_arr1,np_arr2)\n",
        "print(\"The result of matrix multiplication is:\",result)\n",
        "120, 115, 117, 95, 98, 120, 135, 149, 134, 113, 123, 104"
      ],
      "metadata": {
        "colab": {
          "base_uri": "https://localhost:8080/"
        },
        "id": "TUVnrk5NCjFJ",
        "outputId": "b28cd17b-e209-4d38-bd2f-5e3f15404c1e"
      },
      "execution_count": null,
      "outputs": [
        {
          "output_type": "stream",
          "name": "stdout",
          "text": [
            "The Initial array is: [[ 1  2  3  4  5]\n",
            " [ 6  7  8  9 10]]\n",
            "The Shape of the array is: (2, 5)\n",
            "The no. of rows in an array is: 2\n",
            "The no. of columns in an array is: 5\n",
            "First row of the array is: [1 2 3 4 5]\n",
            "First Column of the array is: [1 6]\n",
            "First Column first row element of the array: 1\n",
            "1D reshaped array is: [ 1  2  3  4  5  6  7  8  9 10]\n",
            "Transpose of the array is: [[ 1  6]\n",
            " [ 2  7]\n",
            " [ 3  8]\n",
            " [ 4  9]\n",
            " [ 5 10]]\n",
            "The result of matrix multiplication is: [[25 28]\n",
            " [73 82]]\n"
          ]
        }
      ]
    },
    {
      "cell_type": "markdown",
      "source": [
        "Test"
      ],
      "metadata": {
        "id": "Je4f7ctWGv9N"
      }
    },
    {
      "cell_type": "code",
      "source": [
        "# Count of normal, prediabetic and diabetic\n",
        "import numpy as np\n",
        "\n",
        "def fn_diabetic(list):\n",
        "  count_normal = 0\n",
        "  count_prediabetic = 0\n",
        "  count_diabetic = 0\n",
        "  for i in count_list:\n",
        "    if i<= 99:\n",
        "      count_normal += 1\n",
        "    elif 100<=i<=125: # Corrected the condition to 100 <= i <= 125\n",
        "      count_prediabetic += 1\n",
        "    else:\n",
        "      count_diabetic += 1\n",
        "\n",
        "  return count_normal, count_prediabetic, count_diabetic # Moved the return statement outside the loop\n",
        "\n",
        "# Get input as a string\n",
        "count_list_str = input(\"Enter monthly fasting blood sugar levels upto 12 months separated by spaces: \")\n",
        "\n",
        "# Convert the string to a list of numbers, handling commas\n",
        "count_list = [int(i.replace(',', '')) for i in count_list_str.split()]  # Split the string, remove commas, and convert to integers\n",
        "\n",
        "normal_count,prediabetic_count,diabetic_count = fn_diabetic(count_list)\n",
        "\n",
        "print(f\"The count are: normal - {normal_count}, prediabetic - {prediabetic_count}, and diabetic - {diabetic_count}\")\n",
        "\n",
        "# Calculate the mean using the numerical list\n",
        "print(f\"The average of all Fasting blood sugar levels are:{np.mean(count_list)}\")"
      ],
      "metadata": {
        "id": "v3BPZAAHE0dx"
      },
      "execution_count": null,
      "outputs": []
    },
    {
      "cell_type": "markdown",
      "source": [
        "Creating a pandas dataframe"
      ],
      "metadata": {
        "id": "VGyazUou7fP7"
      }
    },
    {
      "cell_type": "code",
      "source": [
        "# Syntax\n",
        "# df = pd.DataFrame(2D_numpy_array)\n",
        "\n",
        "import numpy as np\n",
        "import pandas as pd\n",
        "\n",
        "n1 = np.array([[1,2,3],[4,5,6],[7,8,9]])\n",
        "df = pd.DataFrame(n1)\n",
        "print(df)\n",
        "\n",
        "df = pd.DataFrame(n1,columns = [\"Col1\",\"Col2\",\"Col3\"])\n",
        "print(df)"
      ],
      "metadata": {
        "colab": {
          "base_uri": "https://localhost:8080/"
        },
        "id": "CG2U5puQ7ifY",
        "outputId": "6746defa-a311-4825-af94-f8287c35b110"
      },
      "execution_count": null,
      "outputs": [
        {
          "output_type": "stream",
          "name": "stdout",
          "text": [
            "   0  1  2\n",
            "0  1  2  3\n",
            "1  4  5  6\n",
            "2  7  8  9\n",
            "   Col1  Col2  Col3\n",
            "0     1     2     3\n",
            "1     4     5     6\n",
            "2     7     8     9\n"
          ]
        }
      ]
    },
    {
      "cell_type": "code",
      "source": [],
      "metadata": {
        "id": "42ywZc6K9Ezz"
      },
      "execution_count": null,
      "outputs": []
    }
  ]
}